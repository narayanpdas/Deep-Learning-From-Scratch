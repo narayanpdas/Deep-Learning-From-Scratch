{
 "cells": [
  {
   "cell_type": "code",
   "execution_count": 1,
   "id": "f3467e38-ff95-4742-853d-6b9729838668",
   "metadata": {},
   "outputs": [],
   "source": [
    "from neurons import Model,Layer\n",
    "import numpy as np\n",
    "import gc\n",
    "from activation_function import leaky_relu,softmax,d_leaky_relu"
   ]
  },
  {
   "cell_type": "code",
   "execution_count": 2,
   "id": "9d080c02-3b18-4bcc-be84-7c82e2455e9d",
   "metadata": {},
   "outputs": [],
   "source": [
    "from sklearn.datasets import load_iris\n",
    "from sklearn.preprocessing import MinMaxScaler\n",
    "from sklearn.preprocessing import OneHotEncoder as ohe\n",
    "X = load_iris().data\n",
    "y = load_iris().target\n",
    "scaler = MinMaxScaler()\n",
    "X_scaled = scaler.fit_transform(X)\n",
    "y_ohe = ohe(handle_unknown='ignore', sparse_output=False).fit_transform(y.reshape(-1,1))"
   ]
  },
  {
   "cell_type": "code",
   "execution_count": 27,
   "id": "f200e56a-fc78-43f7-be34-7be34b19e4d6",
   "metadata": {},
   "outputs": [],
   "source": [
    "import matplotlib.pyplot as  plt\n",
    "def train_and_plot_diff_model_history(X , y, units_per_layer = 3,num_h_layers=1,epochs=10):\n",
    "    input_size,output_size = len(X[0]) , len(y[0])\n",
    "    model = Model(learning_rate=0.01)\n",
    "    \n",
    "    # input layers\n",
    "    model.add(layer=Layer(units=units_per_layer,\n",
    "                          input_size=input_size,\n",
    "                          activation_function=leaky_relu))\n",
    "\n",
    "    #hidden layers\n",
    "    for i in range(0,num_h_layers):\n",
    "        model.add(layer=Layer(units=units_per_layer,\n",
    "                              input_size=units_per_layer,\n",
    "                              activation_function=leaky_relu))\n",
    "    \n",
    "    # Output Layers\n",
    "    model.add(layer=Layer(units=output_size,\n",
    "                          input_size=units_per_layer,\n",
    "                          activation_function=softmax)) \n",
    "    model.fit(X, y, epochs=20, batch_size=8)\n",
    "    print(f\"Model : {model}\")\n",
    "    history = model.history()\n",
    "    return history"
   ]
  },
  {
   "cell_type": "code",
   "execution_count": 28,
   "id": "74eb0f09-2215-4d88-a9ba-f2d48a3754e0",
   "metadata": {
    "scrolled": true
   },
   "outputs": [
    {
     "name": "stdout",
     "output_type": "stream",
     "text": [
      "Epoch 0, Loss: 1.7477\n",
      "Epoch 1, Loss: 1.5907\n",
      "Epoch 2, Loss: 1.4807\n",
      "Epoch 3, Loss: 1.4030\n",
      "Epoch 4, Loss: 1.3451\n",
      "Epoch 5, Loss: 1.2963\n",
      "Epoch 6, Loss: 1.2533\n",
      "Epoch 7, Loss: 1.2143\n",
      "Epoch 8, Loss: 1.1779\n",
      "Epoch 9, Loss: 1.1433\n",
      "Epoch 10, Loss: 1.1098\n",
      "Epoch 11, Loss: 1.0772\n",
      "Epoch 12, Loss: 1.0449\n",
      "Epoch 13, Loss: 1.0134\n",
      "Epoch 14, Loss: 0.9812\n",
      "Epoch 15, Loss: 0.9508\n",
      "Epoch 16, Loss: 0.9226\n",
      "Epoch 17, Loss: 0.8969\n",
      "Epoch 18, Loss: 0.8723\n",
      "Epoch 19, Loss: 0.8506\n",
      "Model : <Model layers: [Layer(unit:3 input_size = 4), Layer(unit:3 input_size = 3), Layer(unit:3 input_size = 3)] lr: 0.01 >\n",
      "Epoch 0, Loss: 1.2773\n",
      "Epoch 1, Loss: 1.2538\n",
      "Epoch 2, Loss: 1.2331\n",
      "Epoch 3, Loss: 1.2147\n",
      "Epoch 4, Loss: 1.1981\n",
      "Epoch 5, Loss: 1.1830\n",
      "Epoch 6, Loss: 1.1695\n",
      "Epoch 7, Loss: 1.1573\n",
      "Epoch 8, Loss: 1.1463\n",
      "Epoch 9, Loss: 1.1366\n",
      "Epoch 10, Loss: 1.1279\n",
      "Epoch 11, Loss: 1.1200\n",
      "Epoch 12, Loss: 1.1124\n",
      "Epoch 13, Loss: 1.1046\n",
      "Epoch 14, Loss: 1.0959\n",
      "Epoch 15, Loss: 1.0861\n",
      "Epoch 16, Loss: 1.0752\n",
      "Epoch 17, Loss: 1.0636\n",
      "Epoch 18, Loss: 1.0517\n",
      "Epoch 19, Loss: 1.0394\n",
      "Model : <Model layers: [Layer(unit:4 input_size = 4), Layer(unit:4 input_size = 4), Layer(unit:3 input_size = 4)] lr: 0.01 >\n",
      "Epoch 0, Loss: 4.8963\n",
      "Epoch 1, Loss: 3.1566\n",
      "Epoch 2, Loss: 2.1831\n",
      "Epoch 3, Loss: 1.6883\n",
      "Epoch 4, Loss: 1.5667\n",
      "Epoch 5, Loss: 1.5123\n",
      "Epoch 6, Loss: 1.4684\n",
      "Epoch 7, Loss: 1.4206\n",
      "Epoch 8, Loss: 1.3873\n",
      "Epoch 9, Loss: 1.3500\n",
      "Epoch 10, Loss: 1.3176\n",
      "Epoch 11, Loss: 1.2884\n",
      "Epoch 12, Loss: 1.2610\n",
      "Epoch 13, Loss: 1.2378\n",
      "Epoch 14, Loss: 1.2172\n",
      "Epoch 15, Loss: 1.1986\n",
      "Epoch 16, Loss: 1.1833\n",
      "Epoch 17, Loss: 1.1704\n",
      "Epoch 18, Loss: 1.1598\n",
      "Epoch 19, Loss: 1.1531\n",
      "Model : <Model layers: [Layer(unit:4 input_size = 4), Layer(unit:4 input_size = 4), Layer(unit:4 input_size = 4), Layer(unit:3 input_size = 4)] lr: 0.01 >\n",
      "Epoch 0, Loss: 9.5074\n",
      "Epoch 1, Loss: 6.7944\n",
      "Epoch 2, Loss: 4.4513\n",
      "Epoch 3, Loss: 3.1698\n",
      "Epoch 4, Loss: 2.3625\n",
      "Epoch 5, Loss: 1.9309\n",
      "Epoch 6, Loss: 1.7204\n",
      "Epoch 7, Loss: 1.5748\n",
      "Epoch 8, Loss: 1.4583\n",
      "Epoch 9, Loss: 1.3673\n",
      "Epoch 10, Loss: 1.2994\n",
      "Epoch 11, Loss: 1.2505\n",
      "Epoch 12, Loss: 1.2162\n",
      "Epoch 13, Loss: 1.1926\n",
      "Epoch 14, Loss: 1.1764\n",
      "Epoch 15, Loss: 1.1651\n",
      "Epoch 16, Loss: 1.1570\n",
      "Epoch 17, Loss: 1.1509\n",
      "Epoch 18, Loss: 1.1462\n",
      "Epoch 19, Loss: 1.1421\n",
      "Model : <Model layers: [Layer(unit:4 input_size = 4), Layer(unit:4 input_size = 4), Layer(unit:4 input_size = 4), Layer(unit:4 input_size = 4), Layer(unit:4 input_size = 4), Layer(unit:4 input_size = 4), Layer(unit:3 input_size = 4)] lr: 0.01 >\n"
     ]
    }
   ],
   "source": [
    "\n",
    "history1 = train_and_plot_diff_model_history(X,y_ohe)\n",
    "history2 = train_and_plot_diff_model_history(X,y_ohe,units_per_layer=4)\n",
    "history3 = train_and_plot_diff_model_history(X,y_ohe,units_per_layer=4,num_h_layers=2)\n",
    "history4 = train_and_plot_diff_model_history(X,y_ohe,units_per_layer=4,num_h_layers=5)"
   ]
  },
  {
   "cell_type": "code",
   "execution_count": 33,
   "id": "7f0b71e7-b474-4273-891d-36830de67643",
   "metadata": {},
   "outputs": [
    {
     "data": {
      "text/plain": [
       "[<matplotlib.lines.Line2D at 0x20dbb500690>]"
      ]
     },
     "execution_count": 33,
     "metadata": {},
     "output_type": "execute_result"
    },
    {
     "data": {
      "image/png": "[encoded data removed]",
      "text/plain": [
       "<Figure size 640x480 with 1 Axes>"
      ]
     },
     "metadata": {},
     "output_type": "display_data"
    }
   ],
   "source": [
    "plt.xlabel(\"Losses\")\n",
    "plt.ylabel(\"Epochs\")\n",
    "plt.plot(history1.values(),np.arange(0,len(history1)) ,color='green')\n",
    "plt.plot(history2.values(),np.arange(0,len(history2)) ,color='blue')\n",
    "plt.plot(history3.values(),np.arange(0,len(history3)) ,color='red')\n",
    "plt.plot(history4.values(),np.arange(0,len(history4)) ,color='cyan')"
   ]
  },
  {
   "cell_type": "code",
   "execution_count": 26,
   "id": "57d94262-6e54-4ff7-99d3-947a0228e422",
   "metadata": {},
   "outputs": [
    {
     "data": {
      "text/plain": [
       "24"
      ]
     },
     "execution_count": 26,
     "metadata": {},
     "output_type": "execute_result"
    }
   ],
   "source": [
    "gc.collect()\n"
   ]
  },
  {
   "cell_type": "code",
   "execution_count": 52,
   "id": "1fe23c1a-71c3-4a29-9551-10e14b65da36",
   "metadata": {},
   "outputs": [
    {
     "name": "stdout",
     "output_type": "stream",
     "text": [
      "Epoch 0, Loss: 0.5933\n",
      "Epoch 1, Loss: 0.4785\n",
      "Epoch 2, Loss: 0.4399\n",
      "Epoch 3, Loss: 0.4194\n",
      "Epoch 4, Loss: 0.4054\n",
      "Epoch 5, Loss: 0.3945\n",
      "Epoch 6, Loss: 0.3857\n",
      "Epoch 7, Loss: 0.3780\n",
      "Epoch 8, Loss: 0.3713\n",
      "Epoch 9, Loss: 0.3650\n",
      "Epoch 10, Loss: 0.3592\n",
      "Epoch 11, Loss: 0.3536\n",
      "Epoch 12, Loss: 0.3485\n",
      "Epoch 13, Loss: 0.3436\n",
      "Epoch 14, Loss: 0.3393\n",
      "Epoch 15, Loss: 0.3353\n",
      "Epoch 16, Loss: 0.3316\n",
      "Epoch 17, Loss: 0.3284\n",
      "Epoch 18, Loss: 0.3256\n",
      "Epoch 19, Loss: 0.3228\n",
      "Model : <Model layers: [Layer(unit:4 input_size = 2), Layer(unit:4 input_size = 4), Layer(unit:4 input_size = 4), Layer(unit:2 input_size = 4)] lr: 0.01 >\n"
     ]
    }
   ],
   "source": [
    "from sklearn.datasets import make_moons\n",
    "X_hard, y_hard = make_moons(n_samples=1000, noise=0.3)\n",
    "history8 = train_and_plot_diff_model_history(X_hard,\n",
    "                                             ohe(handle_unknown='ignore', sparse_output=False).fit_transform(y_hard.reshape(-1,1)),\n",
    "                                             units_per_layer=4,\n",
    "                                             num_h_layers=2\n",
    "                                            )"
   ]
  },
  {
   "cell_type": "code",
   "execution_count": 53,
   "id": "cdaba2c7-8fc9-4d44-bc81-be7200d7cd8b",
   "metadata": {},
   "outputs": [
    {
     "data": {
      "text/plain": [
       "[<matplotlib.lines.Line2D at 0x20dbd7b56d0>]"
      ]
     },
     "execution_count": 53,
     "metadata": {},
     "output_type": "execute_result"
    },
    {
     "data": {
      "image/png": "[encoded data removed]",
      "text/plain": [
       "<Figure size 640x480 with 1 Axes>"
      ]
     },
     "metadata": {},
     "output_type": "display_data"
    }
   ],
   "source": [
    "plt.xlabel(\"Losses\")\n",
    "plt.ylabel(\"Epochs\")\n",
    "plt.plot(history8.values(),np.arange(0,len(history1)) ,color='green')"
   ]
  },
  {
   "cell_type": "code",
   "execution_count": null,
   "id": "b311a39a-3a4d-4153-a72f-9331090ae361",
   "metadata": {},
   "outputs": [],
   "source": []
  }
 ],
 "metadata": {
  "kernelspec": {
   "display_name": "Python 3 (ipykernel)",
   "language": "python",
   "name": "python3"
  },
  "language_info": {
   "codemirror_mode": {
    "name": "ipython",
    "version": 3
   },
   "file_extension": ".py",
   "mimetype": "text/x-python",
   "name": "python",
   "nbconvert_exporter": "python",
   "pygments_lexer": "ipython3",
   "version": "3.11.9"
  }
 },
 "nbformat": 4,
 "nbformat_minor": 5
}
